{
 "cells": [
  {
   "cell_type": "code",
   "execution_count": 5,
   "metadata": {},
   "outputs": [
    {
     "name": "stdout",
     "output_type": "stream",
     "text": [
      "Current working directory: /Users/arpitagnihotri/story_with_llama3/file\n",
      "Dotenv path: /Users/arpitagnihotri/story_with_llama3/file/.env\n",
      "Why did the astronaut break up with his girlfriend before going to Mars?\n",
      "\n",
      "Because he needed space!\n"
     ]
    }
   ],
   "source": [
    "import os \n",
    "from dotenv import load_dotenv, find_dotenv\n",
    "load_dotenv()\n",
    "print(f\"Current working directory: {os.getcwd()}\")\n",
    "dotenv_path = find_dotenv()\n",
    "print(f\"Dotenv path: {dotenv_path}\")\n",
    "from langchain.llms import ollama\n",
    "LANGCHAIN_API_KEY='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'\n",
    "os.environ['LANGCHAIN_TRACING_V2'] = 'true'\n",
    "llm = 'llama3'\n",
    "from langchain.document_loaders import RecursiveUrlLoader, PyPDFLoader\n",
    "from langchain_community.chat_models import ChatOllama\n",
    "from langchain_core.prompts import PromptTemplate\n",
    "\n",
    "llm = ChatOllama(model= llm , temperature= 0)\n",
    "llm.invoke('Where is iindia')\n",
    "from langchain_core.prompts import PromptTemplate\n",
    "\n",
    "from langchain_core.prompts import ChatPromptTemplate\n",
    "from langchain_core.output_parsers import StrOutputParser\n",
    "prompt = ChatPromptTemplate.from_template(\"Tell me a short joke about {topic}\")\n",
    "\n",
    "# using LangChain Expressive Language chain syntax\n",
    "# learn more about the LCEL on\n",
    "# /docs/expression_language/why\n",
    "chain = prompt | llm | StrOutputParser()\n",
    "\n",
    "print(chain.invoke({\"topic\": \"Space travel\"}))\n",
    "from typing_extensions import TypedDict\n",
    "from typing import List\n",
    "from langchain_core.documents import Document"
   ]
  },
  {
   "cell_type": "code",
   "execution_count": 18,
   "metadata": {},
   "outputs": [
    {
     "name": "stdout",
     "output_type": "stream",
     "text": [
      "The capital"
     ]
    },
    {
     "name": "stdout",
     "output_type": "stream",
     "text": [
      " of India is New Delhi."
     ]
    }
   ],
   "source": [
    "for chunk in chain.stream('india'):\n",
    "    print(chunk, end = '')"
   ]
  },
  {
   "cell_type": "code",
   "execution_count": 1,
   "metadata": {},
   "outputs": [],
   "source": [
    "from fastapi import FastAPI\n"
   ]
  },
  {
   "cell_type": "code",
   "execution_count": 2,
   "metadata": {},
   "outputs": [],
   "source": [
    "from langchain_community.chat_models import ChatOllama"
   ]
  },
  {
   "cell_type": "code",
   "execution_count": 3,
   "metadata": {},
   "outputs": [],
   "source": [
    "from langchain_core.prompts import ChatPromptTemplate"
   ]
  },
  {
   "cell_type": "code",
   "execution_count": 4,
   "metadata": {},
   "outputs": [],
   "source": [
    "llm = ChatOllama()"
   ]
  },
  {
   "cell_type": "code",
   "execution_count": 6,
   "metadata": {},
   "outputs": [
    {
     "data": {
      "text/plain": [
       "True"
      ]
     },
     "execution_count": 6,
     "metadata": {},
     "output_type": "execute_result"
    }
   ],
   "source": [
    "import os\n",
    "from dotenv import load_dotenv , find_dotenv\n",
    "load_dotenv()"
   ]
  },
  {
   "cell_type": "code",
   "execution_count": 7,
   "metadata": {},
   "outputs": [
    {
     "name": "stdout",
     "output_type": "stream",
     "text": [
      "Current working directory: /Users/arpitagnihotri/story_with_llama3/file\n",
      "Dotenv path: /Users/arpitagnihotri/story_with_llama3/file/.env\n"
     ]
    },
    {
     "data": {
      "text/plain": [
       "True"
      ]
     },
     "execution_count": 7,
     "metadata": {},
     "output_type": "execute_result"
    }
   ],
   "source": [
    "import os\n",
    "from dotenv import load_dotenv, find_dotenv\n",
    "\n",
    "print(f\"Current working directory: {os.getcwd()}\")\n",
    "dotenv_path = find_dotenv()\n",
    "print(f\"Dotenv path: {dotenv_path}\")\n",
    "load_dotenv()\n"
   ]
  },
  {
   "cell_type": "code",
   "execution_count": 8,
   "metadata": {},
   "outputs": [
    {
     "name": "stdout",
     "output_type": "stream",
     "text": [
      ".env file exists\n"
     ]
    }
   ],
   "source": [
    "import os\n",
    "\n",
    "dotenv_path = '/Users/arpitagnihotri/story_with_llama3/file/.env'\n",
    "if os.path.exists(dotenv_path):\n",
    "    print(\".env file exists\")\n",
    "else:\n",
    "    print(\".env file does not exist\")\n"
   ]
  },
  {
   "cell_type": "code",
   "execution_count": 9,
   "metadata": {},
   "outputs": [
    {
     "name": "stdout",
     "output_type": "stream",
     "text": [
      "Current working directory: /Users/arpitagnihotri/story_with_llama3/file\n",
      "Dotenv path: /Users/arpitagnihotri/story_with_llama3/file/.env\n"
     ]
    }
   ],
   "source": [
    "import os \n",
    "from dotenv import load_dotenv, find_dotenv\n",
    "load_dotenv()\n",
    "print(f\"Current working directory: {os.getcwd()}\")\n",
    "dotenv_path = find_dotenv()\n",
    "print(f\"Dotenv path: {dotenv_path}\")\n",
    "from langchain.llms import ollama\n",
    "LANGCHAIN_API_KEY='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'\n",
    "os.environ['LANGCHAIN_TRACING_V2'] = 'true'"
   ]
  },
  {
   "cell_type": "code",
   "execution_count": null,
   "metadata": {},
   "outputs": [],
   "source": []
  }
 ],
 "metadata": {
  "kernelspec": {
   "display_name": "Python 3",
   "language": "python",
   "name": "python3"
  },
  "language_info": {
   "codemirror_mode": {
    "name": "ipython",
    "version": 3
   },
   "file_extension": ".py",
   "mimetype": "text/x-python",
   "name": "python",
   "nbconvert_exporter": "python",
   "pygments_lexer": "ipython3",
   "version": "3.12.1"
  }
 },
 "nbformat": 4,
 "nbformat_minor": 2
}
